{
 "cells": [
  {
   "cell_type": "markdown",
   "id": "684d7f9a-026d-4a6d-b0d2-303f07c93540",
   "metadata": {},
   "source": [
    "# Table of contents\n",
    "- [Setup](#setup)\n",
    "    - [Purpose](#purpose)\n",
    "    - [Libraries](#libraries)\n",
    "- [Quality assurance](#qualityassurance) \n",
    "\n",
    "<a name='setup'></a>\n",
    "# 0. Setup  \n",
    "\n",
    "<a name='purpose'></a>\n",
    "## 0.1. Purpose  \n",
    "\n",
    "The purpose of this notebook is following: \n",
    "\n",
    "The following steps are performed: \n",
    "- Randomly select 10 articles\n",
    "- Two people manually extract all URLs and the sentences containing the URLs\n",
    "    - The results are in 'Data/URLs_manuallyExtracted_QC_1' and 'Data/URLs_manuallyExtracted_QC_2'\n",
    "- Gather the automatically extracted URLs and sentences (this is done in 'Code/datasets_v5.ipynb')\n",
    "    - The results are in 'Data/articles_filtered_urls.csv'\n",
    "- Investigate\n",
    "    - Inter-extractor agreement\n",
    "- Report results  \n",
    "\n",
    "<a name='libraries'></a>\n",
    "## 0.2. Libraries "
   ]
  },
  {
   "cell_type": "code",
   "execution_count": 1,
   "id": "5ed5fa02-9877-4a7f-ab52-f340d8638866",
   "metadata": {},
   "outputs": [],
   "source": [
    "import pandas as pd\n",
    "import numpy as np\n",
    "\n",
    "import json \n",
    "import os \n",
    "import re \n",
    "import io\n",
    "\n",
    "# Random \n",
    "import random"
   ]
  },
  {
   "cell_type": "markdown",
   "id": "0c2bf461-d218-433c-83c4-e590c7c74f0b",
   "metadata": {},
   "source": [
    "# 1. Ten randomly selected articles \n",
    "\n",
    "I want to manually extract the URLs and sentences containing URLs from 10 randomly selected research papers. First, I need to get the research papers and make sure they are not an article used to establish the ground truth. "
   ]
  },
  {
   "cell_type": "code",
   "execution_count": 2,
   "id": "bfe0a9ab-b78b-477d-9fc2-9bff6e57f803",
   "metadata": {},
   "outputs": [],
   "source": [
    "# Path to the groundtruth data directory\n",
    "groundtruth_path = os.path.join(os.pardir, 'Data/articles_groundtruth_urls_and_sentences.csv')\n",
    "groundtruth_articles = pd.read_csv(groundtruth_path)"
   ]
  },
  {
   "cell_type": "code",
   "execution_count": 3,
   "id": "ab5fd55a-66b6-4744-8422-5a2bbf0dad99",
   "metadata": {},
   "outputs": [],
   "source": [
    "groundtruth_dois = groundtruth_articles['DOI'].unique()"
   ]
  },
  {
   "cell_type": "code",
   "execution_count": 10,
   "id": "ade7aebd-9ad9-4bb2-b29d-e7cb70eb2232",
   "metadata": {},
   "outputs": [],
   "source": [
    "def get_random_dois(json_file_path, num_samples, dois_to_exclude=None, random_seed=40):\n",
    "    \"\"\"\n",
    "    Get a list of random DOIs from a JSON file while ensuring that they are not in the groundtruth DOI list.\n",
    "\n",
    "    Parameters:\n",
    "    json_file_path (str): The path to the JSON file containing DOI data.\n",
    "    num_samples (int): The number of random DOIs to sample.\n",
    "    dois_to_exclude (list, optional): A list of DOIs to exclude from the random sampling. Default is None.\n",
    "    random_seed (int, optional): Seed for the random number generator for reproducibility. Default is 40.\n",
    "\n",
    "    Returns:\n",
    "    list: A list of unique random DOIs not in the groundtruth DOI list.\n",
    "    \"\"\"\n",
    "    # Set the random seed for reproducibility\n",
    "    random.seed(random_seed)\n",
    "\n",
    "    # Load the DOI data from the JSON file\n",
    "    with open(json_file_path, 'r') as json_file:\n",
    "        doi_data = json.load(json_file)\n",
    "        doi_list = doi_data['DOIs']\n",
    "\n",
    "    doi_list = [doi for doi in doi_list if doi not in groundtruth_dois]\n",
    "\n",
    "    # Ensure the number of requested samples does not exceed available DOIs\n",
    "    num_samples = min(num_samples, len(doi_list))\n",
    "\n",
    "    # Get a sample of DOIs\n",
    "    random_dois = random.sample(doi_list, num_samples)\n",
    "\n",
    "    return random_dois"
   ]
  },
  {
   "cell_type": "code",
   "execution_count": 11,
   "id": "aee72d0f-c926-4e20-8529-ed32501d1253",
   "metadata": {},
   "outputs": [
    {
     "data": {
      "text/plain": [
       "['10.1016/j.neuroimage.2022.119254',\n",
       " '10.1016/j.neuroimage.2022.119133',\n",
       " '10.1016/j.neuroimage.2022.119360',\n",
       " '10.1016/j.neuroimage.2022.119742',\n",
       " '10.1016/j.neuroimage.2022.119294',\n",
       " '10.1016/j.neuroimage.2022.118992',\n",
       " '10.1016/j.neuroimage.2022.119077',\n",
       " '10.1016/j.neuroimage.2021.118868',\n",
       " '10.1016/j.neuroimage.2022.118960',\n",
       " '10.1016/j.neuroimage.2022.119769',\n",
       " '10.1016/j.neuroimage.2022.119048',\n",
       " '10.1016/j.neuroimage.2022.119199']"
      ]
     },
     "execution_count": 11,
     "metadata": {},
     "output_type": "execute_result"
    }
   ],
   "source": [
    "# Path to the JSON file containing DOI values\n",
    "json_file_path = '../Data/ElsevierAPI/downloadedPDFs_info.json'\n",
    "samples = 12\n",
    "\n",
    "# Get 12 random DOIs \n",
    "random_dois = get_random_dois(json_file_path, samples, groundtruth_dois)\n",
    "\n",
    "random_dois"
   ]
  },
  {
   "cell_type": "markdown",
   "id": "ed1ac775-8c81-44a8-b28f-3ecc125cd8ff",
   "metadata": {},
   "source": [
    "I will save all of the PDFs to these articles and share them with the person who is going to function as my quality control. \n",
    "The PDFs were shared in a folder alongside an excel sheet, which the coder and I filled out in the following manner: \n",
    "\n",
    "| Title          | Description      |\n",
    "| --------------- | ---------------- |\n",
    "| DOI            | The article's DOI                 |\n",
    "| URL            | The URL. It can be start with http, www, or simply be .com or similar. It has to occur in the text, i.e., from title to \"References\". If there are no URLs, leave this field and the others blank.                 |\n",
    "| Sentence(s)    | Copy of the full sentence(s) that contain the URL. Put quotations (either \"\" or '') around. If there are multiple sentences, put a comma between them.                 |\n",
    "\n",
    "---\n",
    "\n",
    "We will extract the URLs and sentences together from 10.1016/j.neuroimage.2022.119254 and 10.1016/j.neuroimage.2022.119133, and we will extract the URLs and sentences from the other ten articles individually. \n",
    "\n",
    "<a name='qualityassurance'></a>\n",
    "# Quality assurance (QA)"
   ]
  },
  {
   "cell_type": "code",
   "execution_count": null,
   "id": "77bc46da-2ece-4ccb-9912-9f02cf655028",
   "metadata": {},
   "outputs": [],
   "source": []
  },
  {
   "cell_type": "code",
   "execution_count": null,
   "id": "4bfe4330-4274-44e6-aaf3-910d7fcb1469",
   "metadata": {},
   "outputs": [],
   "source": []
  },
  {
   "cell_type": "code",
   "execution_count": null,
   "id": "86e431a2-2a96-4c86-b554-308c7d86304e",
   "metadata": {},
   "outputs": [],
   "source": []
  },
  {
   "cell_type": "code",
   "execution_count": null,
   "id": "b10d9fb6-7ca0-4db5-bdfb-696cc27b885d",
   "metadata": {},
   "outputs": [],
   "source": []
  }
 ],
 "metadata": {
  "kernelspec": {
   "display_name": "Python 3 (ipykernel)",
   "language": "python",
   "name": "python3"
  },
  "language_info": {
   "codemirror_mode": {
    "name": "ipython",
    "version": 3
   },
   "file_extension": ".py",
   "mimetype": "text/x-python",
   "name": "python",
   "nbconvert_exporter": "python",
   "pygments_lexer": "ipython3",
   "version": "3.9.12"
  }
 },
 "nbformat": 4,
 "nbformat_minor": 5
}
